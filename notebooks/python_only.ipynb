{
 "cells": [
  {
   "cell_type": "code",
   "execution_count": 189,
   "metadata": {},
   "outputs": [],
   "source": [
    "%reload_ext autoreload\n",
    "%autoreload 2\n",
    "\n",
    "from images import schemas\n",
    "from pathlib import Path\n",
    "import pandas as pd\n",
    "from images import main\n",
    "from images import utils\n",
    "import numpy as np"
   ]
  },
  {
   "cell_type": "code",
   "execution_count": 195,
   "metadata": {},
   "outputs": [
    {
     "name": "stdout",
     "output_type": "stream",
     "text": [
      "starting skill Skill('load_data')\n",
      "starting skill Skill('ident_colors')\n",
      "starting skill Skill('ident_bounding_boxes')\n",
      "starting skill Skill('ident_landmarks')\n",
      "starting skill Skill('write_json')\n",
      "wrote testy.jsonl\n"
     ]
    }
   ],
   "source": [
    "path = Path('../data/images.csv')\n",
    "DATA = pd.read_csv(path)\n",
    "df = utils.runit(main.main,path=path,outfile='testy.jsonl')"
   ]
  },
  {
   "cell_type": "code",
   "execution_count": 188,
   "metadata": {},
   "outputs": [],
   "source": [
    "outfile = Path('testy.json')\n",
    "\n",
    "df.to_json(outfile, orient='records', lines=True)"
   ]
  },
  {
   "cell_type": "code",
   "execution_count": 167,
   "metadata": {},
   "outputs": [
    {
     "data": {
      "text/plain": [
       "frozenset({'fractionOfPixels', 'rgbValues', 'score'})"
      ]
     },
     "execution_count": 167,
     "metadata": {},
     "output_type": "execute_result"
    }
   ],
   "source": [
    "main.get_schema_fields(skill.add_fields)  -frozenset(df)"
   ]
  },
  {
   "cell_type": "code",
   "execution_count": 177,
   "metadata": {},
   "outputs": [
    {
     "data": {
      "text/plain": [
       "[94, 45, 15, 95]"
      ]
     },
     "execution_count": 177,
     "metadata": {},
     "output_type": "execute_result"
    }
   ],
   "source": []
  },
  {
   "cell_type": "code",
   "execution_count": null,
   "metadata": {},
   "outputs": [],
   "source": []
  }
 ],
 "metadata": {
  "kernelspec": {
   "display_name": "Python 3",
   "language": "python",
   "name": "python3"
  },
  "language_info": {
   "codemirror_mode": {
    "name": "ipython",
    "version": 3
   },
   "file_extension": ".py",
   "mimetype": "text/x-python",
   "name": "python",
   "nbconvert_exporter": "python",
   "pygments_lexer": "ipython3",
   "version": "3.7.2"
  }
 },
 "nbformat": 4,
 "nbformat_minor": 2
}
