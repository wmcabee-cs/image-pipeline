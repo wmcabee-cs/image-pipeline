{
 "cells": [
  {
   "cell_type": "code",
   "execution_count": 30,
   "metadata": {},
   "outputs": [],
   "source": [
    "%reload_ext autoreload\n",
    "%autoreload 2\n",
    "\n",
    "import pandas as pd"
   ]
  },
  {
   "cell_type": "code",
   "execution_count": 11,
   "metadata": {},
   "outputs": [],
   "source": [
    "from image_pipeline import pipeline\n",
    "from pathlib import Path"
   ]
  },
  {
   "cell_type": "code",
   "execution_count": 36,
   "metadata": {},
   "outputs": [
    {
     "data": {
      "text/html": [
       "<div>\n",
       "<style scoped>\n",
       "    .dataframe tbody tr th:only-of-type {\n",
       "        vertical-align: middle;\n",
       "    }\n",
       "\n",
       "    .dataframe tbody tr th {\n",
       "        vertical-align: top;\n",
       "    }\n",
       "\n",
       "    .dataframe thead th {\n",
       "        text-align: right;\n",
       "    }\n",
       "</style>\n",
       "<table border=\"1\" class=\"dataframe\">\n",
       "  <thead>\n",
       "    <tr style=\"text-align: right;\">\n",
       "      <th></th>\n",
       "      <th>image_url</th>\n",
       "      <th>comment</th>\n",
       "    </tr>\n",
       "  </thead>\n",
       "  <tbody>\n",
       "    <tr>\n",
       "      <th>0</th>\n",
       "      <td>https://www.kids-world-travel-guide.com/images...</td>\n",
       "      <td>Eiffel Tower</td>\n",
       "    </tr>\n",
       "    <tr>\n",
       "      <th>1</th>\n",
       "      <td>https://www.kids-world-travel-guide.com/images...</td>\n",
       "      <td>Great Wall</td>\n",
       "    </tr>\n",
       "    <tr>\n",
       "      <th>2</th>\n",
       "      <td>https://www.kids-world-travel-guide.com/images...</td>\n",
       "      <td>Red Square</td>\n",
       "    </tr>\n",
       "    <tr>\n",
       "      <th>3</th>\n",
       "      <td>https://www.kids-world-travel-guide.com/images...</td>\n",
       "      <td>Leaning Tower</td>\n",
       "    </tr>\n",
       "    <tr>\n",
       "      <th>4</th>\n",
       "      <td>https://www.kids-world-travel-guide.com/images...</td>\n",
       "      <td>Great Pyramids</td>\n",
       "    </tr>\n",
       "  </tbody>\n",
       "</table>\n",
       "</div>"
      ],
      "text/plain": [
       "                                           image_url         comment\n",
       "0  https://www.kids-world-travel-guide.com/images...    Eiffel Tower\n",
       "1  https://www.kids-world-travel-guide.com/images...      Great Wall\n",
       "2  https://www.kids-world-travel-guide.com/images...      Red Square\n",
       "3  https://www.kids-world-travel-guide.com/images...   Leaning Tower\n",
       "4  https://www.kids-world-travel-guide.com/images...  Great Pyramids"
      ]
     },
     "execution_count": 36,
     "metadata": {},
     "output_type": "execute_result"
    }
   ],
   "source": [
    "INPUT = Path('../data/images.csv')\n",
    "pd.read_csv(INPUT).head()"
   ]
  },
  {
   "cell_type": "code",
   "execution_count": 37,
   "metadata": {},
   "outputs": [
    {
     "data": {
      "text/plain": [
       "[SkillSpec(name='a_load_data', required_inputs=None, add_fields=<class 'image_pipeline.schemas.RawImage'>),\n",
       " SkillSpec(name='a_ident_colors', required_inputs=<class 'image_pipeline.schemas.RawImage'>, add_fields=<class 'image_pipeline.schemas.DominantColorList'>),\n",
       " SkillSpec(name='a_ident_bounding_boxes', required_inputs=<class 'image_pipeline.schemas.RawImage'>, add_fields=<class 'image_pipeline.schemas.BoundingBoxList'>),\n",
       " SkillSpec(name='a_ident_landmarks', required_inputs=<class 'image_pipeline.schemas.RawImage'>, add_fields=<class 'image_pipeline.schemas.LandmarkList'>),\n",
       " SkillSpec(name='a_write_json', required_inputs=<class 'image_pipeline.schemas.AnnotatedImage'>, add_fields=None)]"
      ]
     },
     "execution_count": 37,
     "metadata": {},
     "output_type": "execute_result"
    }
   ],
   "source": [
    "PIPELINE = pipeline.build()\n",
    "PIPELINE"
   ]
  },
  {
   "cell_type": "code",
   "execution_count": 38,
   "metadata": {},
   "outputs": [
    {
     "name": "stdout",
     "output_type": "stream",
     "text": [
      ">> request: {'path': PosixPath('../data/images.csv'), 'outfile': 'testy.jsonl'}\n",
      ">> running skill SkillSpec('a_load_data')\n",
      "\t- request added to input: {'path': PosixPath('../data/images.csv'), 'outfile': 'testy.jsonl'}\n",
      "\t- output <class 'pandas.core.frame.DataFrame'>\n",
      ">> running skill SkillSpec('a_ident_colors')\n",
      "\t- input: <class 'pandas.core.frame.DataFrame'>\n",
      "\t- output <class 'pandas.core.frame.DataFrame'>\n",
      ">> running skill SkillSpec('a_ident_bounding_boxes')\n",
      "\t- input: <class 'pandas.core.frame.DataFrame'>\n",
      "\t- output <class 'pandas.core.frame.DataFrame'>\n",
      ">> running skill SkillSpec('a_ident_landmarks')\n",
      "\t- input: <class 'pandas.core.frame.DataFrame'>\n",
      "\t- output <class 'pandas.core.frame.DataFrame'>\n",
      ">> running skill SkillSpec('a_write_json')\n",
      "\t- request added to input: {'path': PosixPath('../data/images.csv'), 'outfile': 'testy.jsonl'}\n",
      "\t- input: <class 'pandas.core.frame.DataFrame'>\n",
      "wrote testy.jsonl\n",
      "\t- output <class 'pandas.core.frame.DataFrame'>\n",
      ">> output: <class 'pandas.core.frame.DataFrame'>\n"
     ]
    }
   ],
   "source": [
    "request = dict(path=Path('../data/images.csv'), outfile='testy.jsonl')\n",
    "OUTPUT = pipeline.run(pipeline=PIPELINE, request=request)"
   ]
  },
  {
   "cell_type": "code",
   "execution_count": 39,
   "metadata": {},
   "outputs": [
    {
     "data": {
      "text/html": [
       "<div>\n",
       "<style scoped>\n",
       "    .dataframe tbody tr th:only-of-type {\n",
       "        vertical-align: middle;\n",
       "    }\n",
       "\n",
       "    .dataframe tbody tr th {\n",
       "        vertical-align: top;\n",
       "    }\n",
       "\n",
       "    .dataframe thead th {\n",
       "        text-align: right;\n",
       "    }\n",
       "</style>\n",
       "<table border=\"1\" class=\"dataframe\">\n",
       "  <thead>\n",
       "    <tr style=\"text-align: right;\">\n",
       "      <th></th>\n",
       "      <th>image_url</th>\n",
       "      <th>comment</th>\n",
       "      <th>dominant_colors</th>\n",
       "      <th>bounding_boxes</th>\n",
       "      <th>landmarks</th>\n",
       "    </tr>\n",
       "  </thead>\n",
       "  <tbody>\n",
       "    <tr>\n",
       "      <th>0</th>\n",
       "      <td>https://www.kids-world-travel-guide.com/images...</td>\n",
       "      <td>Eiffel Tower</td>\n",
       "      <td>[]</td>\n",
       "      <td>[{'boundingPoly': [64, 19, 2, 71], 'confidence...</td>\n",
       "      <td>[{'landmark': 'identified landmark', 'confiden...</td>\n",
       "    </tr>\n",
       "    <tr>\n",
       "      <th>1</th>\n",
       "      <td>https://www.kids-world-travel-guide.com/images...</td>\n",
       "      <td>Great Wall</td>\n",
       "      <td>[{'fractionOfPixels': 0.82, 'rgbValues': 'rgb_...</td>\n",
       "      <td>[{'boundingPoly': [18, 81, 81, 46], 'confidenc...</td>\n",
       "      <td>[{'landmark': 'identified landmark', 'confiden...</td>\n",
       "    </tr>\n",
       "    <tr>\n",
       "      <th>2</th>\n",
       "      <td>https://www.kids-world-travel-guide.com/images...</td>\n",
       "      <td>Red Square</td>\n",
       "      <td>[{'fractionOfPixels': 0.52, 'rgbValues': 'rgb_...</td>\n",
       "      <td>[{'boundingPoly': [14, 91, 62, 30], 'confidenc...</td>\n",
       "      <td>[{'landmark': 'identified landmark', 'confiden...</td>\n",
       "    </tr>\n",
       "    <tr>\n",
       "      <th>3</th>\n",
       "      <td>https://www.kids-world-travel-guide.com/images...</td>\n",
       "      <td>Leaning Tower</td>\n",
       "      <td>[{'fractionOfPixels': 0.54, 'rgbValues': 'rgb_...</td>\n",
       "      <td>[{'boundingPoly': [47, 29, 3, 15], 'confidence...</td>\n",
       "      <td>[{'landmark': 'identified landmark', 'confiden...</td>\n",
       "    </tr>\n",
       "    <tr>\n",
       "      <th>4</th>\n",
       "      <td>https://www.kids-world-travel-guide.com/images...</td>\n",
       "      <td>Great Pyramids</td>\n",
       "      <td>[{'fractionOfPixels': 0.65, 'rgbValues': 'rgb_...</td>\n",
       "      <td>[]</td>\n",
       "      <td>[{'landmark': 'identified landmark', 'confiden...</td>\n",
       "    </tr>\n",
       "    <tr>\n",
       "      <th>5</th>\n",
       "      <td>https://www.kids-world-travel-guide.com/images...</td>\n",
       "      <td>Sydney Opera House</td>\n",
       "      <td>[{'fractionOfPixels': 0.87, 'rgbValues': 'rgb_...</td>\n",
       "      <td>[{'boundingPoly': [99, 98, 39, 46], 'confidenc...</td>\n",
       "      <td>[{'landmark': 'identified landmark', 'confiden...</td>\n",
       "    </tr>\n",
       "    <tr>\n",
       "      <th>6</th>\n",
       "      <td>https://www.kids-world-travel-guide.com/images...</td>\n",
       "      <td>Taj Mahal</td>\n",
       "      <td>[{'fractionOfPixels': 0.27, 'rgbValues': 'rgb_...</td>\n",
       "      <td>[{'boundingPoly': [18, 91, 67, 8], 'confidence...</td>\n",
       "      <td>[{'landmark': 'identified landmark', 'confiden...</td>\n",
       "    </tr>\n",
       "  </tbody>\n",
       "</table>\n",
       "</div>"
      ],
      "text/plain": [
       "                                           image_url             comment  \\\n",
       "0  https://www.kids-world-travel-guide.com/images...        Eiffel Tower   \n",
       "1  https://www.kids-world-travel-guide.com/images...          Great Wall   \n",
       "2  https://www.kids-world-travel-guide.com/images...          Red Square   \n",
       "3  https://www.kids-world-travel-guide.com/images...       Leaning Tower   \n",
       "4  https://www.kids-world-travel-guide.com/images...      Great Pyramids   \n",
       "5  https://www.kids-world-travel-guide.com/images...  Sydney Opera House   \n",
       "6  https://www.kids-world-travel-guide.com/images...           Taj Mahal   \n",
       "\n",
       "                                     dominant_colors  \\\n",
       "0                                                 []   \n",
       "1  [{'fractionOfPixels': 0.82, 'rgbValues': 'rgb_...   \n",
       "2  [{'fractionOfPixels': 0.52, 'rgbValues': 'rgb_...   \n",
       "3  [{'fractionOfPixels': 0.54, 'rgbValues': 'rgb_...   \n",
       "4  [{'fractionOfPixels': 0.65, 'rgbValues': 'rgb_...   \n",
       "5  [{'fractionOfPixels': 0.87, 'rgbValues': 'rgb_...   \n",
       "6  [{'fractionOfPixels': 0.27, 'rgbValues': 'rgb_...   \n",
       "\n",
       "                                      bounding_boxes  \\\n",
       "0  [{'boundingPoly': [64, 19, 2, 71], 'confidence...   \n",
       "1  [{'boundingPoly': [18, 81, 81, 46], 'confidenc...   \n",
       "2  [{'boundingPoly': [14, 91, 62, 30], 'confidenc...   \n",
       "3  [{'boundingPoly': [47, 29, 3, 15], 'confidence...   \n",
       "4                                                 []   \n",
       "5  [{'boundingPoly': [99, 98, 39, 46], 'confidenc...   \n",
       "6  [{'boundingPoly': [18, 91, 67, 8], 'confidence...   \n",
       "\n",
       "                                           landmarks  \n",
       "0  [{'landmark': 'identified landmark', 'confiden...  \n",
       "1  [{'landmark': 'identified landmark', 'confiden...  \n",
       "2  [{'landmark': 'identified landmark', 'confiden...  \n",
       "3  [{'landmark': 'identified landmark', 'confiden...  \n",
       "4  [{'landmark': 'identified landmark', 'confiden...  \n",
       "5  [{'landmark': 'identified landmark', 'confiden...  \n",
       "6  [{'landmark': 'identified landmark', 'confiden...  "
      ]
     },
     "execution_count": 39,
     "metadata": {},
     "output_type": "execute_result"
    }
   ],
   "source": [
    "OUTPUT"
   ]
  },
  {
   "cell_type": "code",
   "execution_count": null,
   "metadata": {},
   "outputs": [],
   "source": []
  }
 ],
 "metadata": {
  "kernelspec": {
   "display_name": "Python 3",
   "language": "python",
   "name": "python3"
  },
  "language_info": {
   "codemirror_mode": {
    "name": "ipython",
    "version": 3
   },
   "file_extension": ".py",
   "mimetype": "text/x-python",
   "name": "python",
   "nbconvert_exporter": "python",
   "pygments_lexer": "ipython3",
   "version": "3.7.2"
  }
 },
 "nbformat": 4,
 "nbformat_minor": 2
}
