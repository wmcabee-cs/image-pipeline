{
 "cells": [
  {
   "cell_type": "code",
   "execution_count": 9,
   "metadata": {},
   "outputs": [],
   "source": [
    "%reload_ext autoreload\n",
    "%autoreload 2"
   ]
  },
  {
   "cell_type": "code",
   "execution_count": 107,
   "metadata": {},
   "outputs": [
    {
     "name": "stdout",
     "output_type": "stream",
     "text": [
      "Collecting jsonlines\n",
      "  Downloading https://files.pythonhosted.org/packages/4f/9a/ab96291470e305504aa4b7a2e0ec132e930da89eb3ca7a82fbe03167c131/jsonlines-1.2.0-py2.py3-none-any.whl\n",
      "Requirement already satisfied: six in /Users/wmcabee/.conda/envs/dev/lib/python3.7/site-packages (from jsonlines) (1.12.0)\n",
      "Installing collected packages: jsonlines\n",
      "Successfully installed jsonlines-1.2.0\n"
     ]
    }
   ],
   "source": [
    "! pip install jsonlines"
   ]
  },
  {
   "cell_type": "code",
   "execution_count": 133,
   "metadata": {},
   "outputs": [],
   "source": [
    "#import cortex\n",
    "from importlib import import_module, invalidate_caches\n",
    "\n",
    "from cortex_client import DatasetsClient\n",
    "\n",
    "from pathlib import Path\n",
    "import pandas as pd\n",
    "import dill\n",
    "import json\n",
    "import base64\n",
    "from image_pipeline.utils import debug_utils\n",
    "\n",
    "with debug_utils.prepend_syspath('/Users/wmcabee/PycharmProjects/image_pipeline/src/skills/ident_colors/src'):\n",
    "    #invalidate_caches()\n",
    "    ident_colors = import_module('ident_colors.__main__')"
   ]
  },
  {
   "cell_type": "code",
   "execution_count": 146,
   "metadata": {},
   "outputs": [
    {
     "data": {
      "text/html": [
       "<div>\n",
       "<style scoped>\n",
       "    .dataframe tbody tr th:only-of-type {\n",
       "        vertical-align: middle;\n",
       "    }\n",
       "\n",
       "    .dataframe tbody tr th {\n",
       "        vertical-align: top;\n",
       "    }\n",
       "\n",
       "    .dataframe thead th {\n",
       "        text-align: right;\n",
       "    }\n",
       "</style>\n",
       "<table border=\"1\" class=\"dataframe\">\n",
       "  <thead>\n",
       "    <tr style=\"text-align: right;\">\n",
       "      <th></th>\n",
       "      <th>comment</th>\n",
       "      <th>image_url</th>\n",
       "    </tr>\n",
       "  </thead>\n",
       "  <tbody>\n",
       "    <tr>\n",
       "      <th>0</th>\n",
       "      <td>Eiffel Tower</td>\n",
       "      <td>https://www.kids-world-travel-guide.com/images...</td>\n",
       "    </tr>\n",
       "    <tr>\n",
       "      <th>1</th>\n",
       "      <td>Great Wall</td>\n",
       "      <td>https://www.kids-world-travel-guide.com/images...</td>\n",
       "    </tr>\n",
       "    <tr>\n",
       "      <th>2</th>\n",
       "      <td>Red Square</td>\n",
       "      <td>https://www.kids-world-travel-guide.com/images...</td>\n",
       "    </tr>\n",
       "    <tr>\n",
       "      <th>3</th>\n",
       "      <td>Leaning Tower</td>\n",
       "      <td>https://www.kids-world-travel-guide.com/images...</td>\n",
       "    </tr>\n",
       "    <tr>\n",
       "      <th>4</th>\n",
       "      <td>Great Pyramids</td>\n",
       "      <td>https://www.kids-world-travel-guide.com/images...</td>\n",
       "    </tr>\n",
       "    <tr>\n",
       "      <th>5</th>\n",
       "      <td>Sydney Opera House</td>\n",
       "      <td>https://www.kids-world-travel-guide.com/images...</td>\n",
       "    </tr>\n",
       "    <tr>\n",
       "      <th>6</th>\n",
       "      <td>Taj Mahal</td>\n",
       "      <td>https://www.kids-world-travel-guide.com/images...</td>\n",
       "    </tr>\n",
       "  </tbody>\n",
       "</table>\n",
       "</div>"
      ],
      "text/plain": [
       "              comment                                          image_url\n",
       "0        Eiffel Tower  https://www.kids-world-travel-guide.com/images...\n",
       "1          Great Wall  https://www.kids-world-travel-guide.com/images...\n",
       "2          Red Square  https://www.kids-world-travel-guide.com/images...\n",
       "3       Leaning Tower  https://www.kids-world-travel-guide.com/images...\n",
       "4      Great Pyramids  https://www.kids-world-travel-guide.com/images...\n",
       "5  Sydney Opera House  https://www.kids-world-travel-guide.com/images...\n",
       "6           Taj Mahal  https://www.kids-world-travel-guide.com/images..."
      ]
     },
     "execution_count": 146,
     "metadata": {},
     "output_type": "execute_result"
    }
   ],
   "source": [
    "## Test function locally\n",
    "msg= debug_utils.call_cortex_function(ident_colors.main, payload={'ds_name': 'bill/test_images'})\n",
    "ident_colors.API.decode_dataframe_message(msg)"
   ]
  },
  {
   "cell_type": "code",
   "execution_count": 144,
   "metadata": {},
   "outputs": [
    {
     "data": {
      "text/html": [
       "<div>\n",
       "<style scoped>\n",
       "    .dataframe tbody tr th:only-of-type {\n",
       "        vertical-align: middle;\n",
       "    }\n",
       "\n",
       "    .dataframe tbody tr th {\n",
       "        vertical-align: top;\n",
       "    }\n",
       "\n",
       "    .dataframe thead th {\n",
       "        text-align: right;\n",
       "    }\n",
       "</style>\n",
       "<table border=\"1\" class=\"dataframe\">\n",
       "  <thead>\n",
       "    <tr style=\"text-align: right;\">\n",
       "      <th></th>\n",
       "      <th>comment</th>\n",
       "      <th>image_url</th>\n",
       "    </tr>\n",
       "  </thead>\n",
       "  <tbody>\n",
       "    <tr>\n",
       "      <th>0</th>\n",
       "      <td>Eiffel Tower</td>\n",
       "      <td>https://www.kids-world-travel-guide.com/images...</td>\n",
       "    </tr>\n",
       "    <tr>\n",
       "      <th>1</th>\n",
       "      <td>Great Wall</td>\n",
       "      <td>https://www.kids-world-travel-guide.com/images...</td>\n",
       "    </tr>\n",
       "    <tr>\n",
       "      <th>2</th>\n",
       "      <td>Red Square</td>\n",
       "      <td>https://www.kids-world-travel-guide.com/images...</td>\n",
       "    </tr>\n",
       "    <tr>\n",
       "      <th>3</th>\n",
       "      <td>Leaning Tower</td>\n",
       "      <td>https://www.kids-world-travel-guide.com/images...</td>\n",
       "    </tr>\n",
       "    <tr>\n",
       "      <th>4</th>\n",
       "      <td>Great Pyramids</td>\n",
       "      <td>https://www.kids-world-travel-guide.com/images...</td>\n",
       "    </tr>\n",
       "    <tr>\n",
       "      <th>5</th>\n",
       "      <td>Sydney Opera House</td>\n",
       "      <td>https://www.kids-world-travel-guide.com/images...</td>\n",
       "    </tr>\n",
       "    <tr>\n",
       "      <th>6</th>\n",
       "      <td>Taj Mahal</td>\n",
       "      <td>https://www.kids-world-travel-guide.com/images...</td>\n",
       "    </tr>\n",
       "  </tbody>\n",
       "</table>\n",
       "</div>"
      ],
      "text/plain": [
       "              comment                                          image_url\n",
       "0        Eiffel Tower  https://www.kids-world-travel-guide.com/images...\n",
       "1          Great Wall  https://www.kids-world-travel-guide.com/images...\n",
       "2          Red Square  https://www.kids-world-travel-guide.com/images...\n",
       "3       Leaning Tower  https://www.kids-world-travel-guide.com/images...\n",
       "4      Great Pyramids  https://www.kids-world-travel-guide.com/images...\n",
       "5  Sydney Opera House  https://www.kids-world-travel-guide.com/images...\n",
       "6           Taj Mahal  https://www.kids-world-travel-guide.com/images..."
      ]
     },
     "execution_count": 144,
     "metadata": {},
     "output_type": "execute_result"
    }
   ],
   "source": [
    "\n",
    "#msg[\"payload\"]"
   ]
  },
  {
   "cell_type": "code",
   "execution_count": 122,
   "metadata": {},
   "outputs": [
    {
     "data": {
      "text/html": [
       "<div>\n",
       "<style scoped>\n",
       "    .dataframe tbody tr th:only-of-type {\n",
       "        vertical-align: middle;\n",
       "    }\n",
       "\n",
       "    .dataframe tbody tr th {\n",
       "        vertical-align: top;\n",
       "    }\n",
       "\n",
       "    .dataframe thead th {\n",
       "        text-align: right;\n",
       "    }\n",
       "</style>\n",
       "<table border=\"1\" class=\"dataframe\">\n",
       "  <thead>\n",
       "    <tr style=\"text-align: right;\">\n",
       "      <th></th>\n",
       "      <th>comment</th>\n",
       "      <th>image_url</th>\n",
       "    </tr>\n",
       "  </thead>\n",
       "  <tbody>\n",
       "    <tr>\n",
       "      <th>0</th>\n",
       "      <td>Great Wall</td>\n",
       "      <td>https://www.kids-world-travel-guide.com/images...</td>\n",
       "    </tr>\n",
       "    <tr>\n",
       "      <th>1</th>\n",
       "      <td>Red Square</td>\n",
       "      <td>https://www.kids-world-travel-guide.com/images...</td>\n",
       "    </tr>\n",
       "    <tr>\n",
       "      <th>2</th>\n",
       "      <td>Leaning Tower</td>\n",
       "      <td>https://www.kids-world-travel-guide.com/images...</td>\n",
       "    </tr>\n",
       "    <tr>\n",
       "      <th>3</th>\n",
       "      <td>Great Pyramids</td>\n",
       "      <td>https://www.kids-world-travel-guide.com/images...</td>\n",
       "    </tr>\n",
       "    <tr>\n",
       "      <th>4</th>\n",
       "      <td>Sydney Opera House</td>\n",
       "      <td>https://www.kids-world-travel-guide.com/images...</td>\n",
       "    </tr>\n",
       "    <tr>\n",
       "      <th>5</th>\n",
       "      <td>Taj Mahal</td>\n",
       "      <td>https://www.kids-world-travel-guide.com/images...</td>\n",
       "    </tr>\n",
       "  </tbody>\n",
       "</table>\n",
       "</div>"
      ],
      "text/plain": [
       "              comment                                          image_url\n",
       "0          Great Wall  https://www.kids-world-travel-guide.com/images...\n",
       "1          Red Square  https://www.kids-world-travel-guide.com/images...\n",
       "2       Leaning Tower  https://www.kids-world-travel-guide.com/images...\n",
       "3      Great Pyramids  https://www.kids-world-travel-guide.com/images...\n",
       "4  Sydney Opera House  https://www.kids-world-travel-guide.com/images...\n",
       "5           Taj Mahal  https://www.kids-world-travel-guide.com/images..."
      ]
     },
     "execution_count": 122,
     "metadata": {},
     "output_type": "execute_result"
    }
   ],
   "source": []
  },
  {
   "cell_type": "code",
   "execution_count": null,
   "metadata": {},
   "outputs": [],
   "source": []
  }
 ],
 "metadata": {
  "kernelspec": {
   "display_name": "Python 3",
   "language": "python",
   "name": "python3"
  },
  "language_info": {
   "codemirror_mode": {
    "name": "ipython",
    "version": 3
   },
   "file_extension": ".py",
   "mimetype": "text/x-python",
   "name": "python",
   "nbconvert_exporter": "python",
   "pygments_lexer": "ipython3",
   "version": "3.7.2"
  }
 },
 "nbformat": 4,
 "nbformat_minor": 2
}
