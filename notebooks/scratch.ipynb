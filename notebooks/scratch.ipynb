{
 "cells": [
  {
   "cell_type": "code",
   "execution_count": 29,
   "metadata": {},
   "outputs": [
    {
     "data": {
      "text/plain": [
       "'/Users/wmcabee/.conda/envs/dev'"
      ]
     },
     "execution_count": 29,
     "metadata": {},
     "output_type": "execute_result"
    }
   ],
   "source": [
    "%reload_ext autoreload\n",
    "%autoreload 2\n",
    "import sys\n",
    "import os\n",
    "from toolz import *\n",
    "\n",
    "sys.prefix"
   ]
  },
  {
   "cell_type": "code",
   "execution_count": 10,
   "metadata": {},
   "outputs": [],
   "source": [
    "import inspect\n",
    "import dill\n",
    "import sys\n",
    "\n",
    "from pathlib import Path\n",
    "import pandas as pd\n",
    "\n",
    "import base64\n",
    "\n",
    "from cortex import Cortex\n",
    "import cortex\n",
    "\n",
    "from image_pipeline.utils import debug_utils\n",
    "\n",
    "client = Cortex.client()\n",
    "builder = client.builder()\n",
    "from cortex import Message"
   ]
  },
  {
   "cell_type": "code",
   "execution_count": 31,
   "metadata": {},
   "outputs": [
    {
     "name": "stdout",
     "output_type": "stream",
     "text": [
      "\u001b[34mdist\u001b[m\u001b[m      \u001b[34mnotebooks\u001b[m\u001b[m setup.py  \u001b[34mskills\u001b[m\u001b[m    \u001b[34msrc\u001b[m\u001b[m       \u001b[34mtests\u001b[m\u001b[m\n"
     ]
    }
   ],
   "source": [
    "import image_pipeline\n",
    "\n",
    "module_d = Path(image_pipeline.__path__[0])\n",
    "\n",
    "! ls {module_d}/../.."
   ]
  },
  {
   "cell_type": "code",
   "execution_count": 56,
   "metadata": {},
   "outputs": [
    {
     "data": {
      "text/plain": [
       "[('skills/ident_colors/src/ident_colors',\n",
       "  ['requirements.txt', '__init__.py', '__main__.py']),\n",
       " ('skills/ident_landmarks/src/ident_landmarks',\n",
       "  ['requirements.txt', '__main__.py']),\n",
       " ('skills/ident_bounding_boxes/src/ident_bounding_boxes',\n",
       "  ['requirements.txt', '__main__.py'])]"
      ]
     },
     "execution_count": 56,
     "metadata": {},
     "output_type": "execute_result"
    }
   ],
   "source": [
    "data_files = [(str(Path(adir).relative_to(package_d)), files) for adir, adirs, files in os.walk(skills_d) \n",
    "    "
   ]
  },
  {
   "cell_type": "code",
   "execution_count": 49,
   "metadata": {},
   "outputs": [
    {
     "data": {
      "text/plain": [
       "PosixPath('/Users/wmcabee/PycharmProjects/image_pipeline')"
      ]
     },
     "execution_count": 49,
     "metadata": {},
     "output_type": "execute_result"
    }
   ],
   "source": [
    "package_d.relative_to"
   ]
  },
  {
   "cell_type": "code",
   "execution_count": null,
   "metadata": {},
   "outputs": [],
   "source": []
  }
 ],
 "metadata": {
  "kernelspec": {
   "display_name": "Python 3",
   "language": "python",
   "name": "python3"
  },
  "language_info": {
   "codemirror_mode": {
    "name": "ipython",
    "version": 3
   },
   "file_extension": ".py",
   "mimetype": "text/x-python",
   "name": "python",
   "nbconvert_exporter": "python",
   "pygments_lexer": "ipython3",
   "version": "3.7.2"
  }
 },
 "nbformat": 4,
 "nbformat_minor": 2
}
