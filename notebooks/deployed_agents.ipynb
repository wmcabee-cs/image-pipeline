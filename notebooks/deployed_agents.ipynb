{
 "cells": [
  {
   "cell_type": "code",
   "execution_count": 3,
   "metadata": {},
   "outputs": [],
   "source": [
    "%reload_ext autoreload\n",
    "%autoreload 2"
   ]
  },
  {
   "cell_type": "code",
   "execution_count": 12,
   "metadata": {},
   "outputs": [],
   "source": [
    "from cortex import Cortex, Message\n",
    "from image_pipeline.cortex_api import API"
   ]
  },
  {
   "cell_type": "code",
   "execution_count": 5,
   "metadata": {},
   "outputs": [],
   "source": [
    "cortex = Cortex.client()\n",
    "agent = cortex.agent('bill/bill_image')"
   ]
  },
  {
   "cell_type": "code",
   "execution_count": 17,
   "metadata": {},
   "outputs": [],
   "source": [
    "rs = agent.invoke_service('image_data_flow', message=Message.with_payload({'ds_name': 'bill/test_images'}))\n",
    "df = API.decode_dataframe_message(msg={'payload': rs.payload}, name='df')"
   ]
  },
  {
   "cell_type": "code",
   "execution_count": 19,
   "metadata": {},
   "outputs": [
    {
     "name": "stdout",
     "output_type": "stream",
     "text": [
      "{\"comment\":\"Eiffel Tower\",\"image_url\":\"https:\\/\\/www.kids-world-travel-guide.com\\/images\\/xparis_eiffeltower_ssk500.jpeg.pagespeed.ic.2lwZPZtnJ8.jpg\",\"dominant_colors\":[{\"fractionOfPixels\":0.29,\"rgbValues\":\"rgb_str\",\"score\":1},{\"fractionOfPixels\":0.33,\"rgbValues\":\"rgb_str\",\"score\":8}],\"bounding_boxes\":[],\"landmarks\":[{\"landmark\":\"identified landmark\",\"confidence\":0.3}]}\n",
      "{\"comment\":\"Great Wall\",\"image_url\":\"https:\\/\\/www.kids-world-travel-guide.com\\/images\\/xchina_wall_ssk500.jpeg.pagespeed.ic.g_9Qpc2Tzf.jpg\",\"dominant_colors\":[{\"fractionOfPixels\":0.65,\"rgbValues\":\"rgb_str\",\"score\":4}],\"bounding_boxes\":[{\"boundingPoly\":[97,21,52,2],\"confidence\":0.79,\"importanceFraction\":0.86},{\"boundingPoly\":[71,40,91,49],\"confidence\":0.19,\"importanceFraction\":0.57}],\"landmarks\":[{\"landmark\":\"identified landmark\",\"confidence\":0.54}]}\n",
      "{\"comment\":\"Red Square\",\"image_url\":\"https:\\/\\/www.kids-world-travel-guide.com\\/images\\/xbasilscathedral_FelipeFrazao_ssk-2.jpg.pagespeed.ic.dl_pQr7qVV.jpg\",\"dominant_colors\":[{\"fractionOfPixels\":1.0,\"rgbValues\":\"rgb_str\",\"score\":4},{\"fractionOfPixels\":0.1,\"rgbValues\":\"rgb_str\",\"score\":5}],\"bounding_boxes\":[{\"boundingPoly\":[32,97,68,4],\"confidence\":0.9,\"importanceFraction\":0.45}],\"landmarks\":[{\"landmark\":\"identified landmark\",\"confidence\":0.01}]}\n",
      "{\"comment\":\"Leaning Tower\",\"image_url\":\"https:\\/\\/www.kids-world-travel-guide.com\\/images\\/xital_pisa_500.jpg.pagespeed.ic.tOXMILMJS7.jpg\",\"dominant_colors\":[{\"fractionOfPixels\":0.81,\"rgbValues\":\"rgb_str\",\"score\":10}],\"bounding_boxes\":[{\"boundingPoly\":[5,66,93,30],\"confidence\":0.56,\"importanceFraction\":0.24}],\"landmarks\":[{\"landmark\":\"identified landmark\",\"confidence\":0.7}]}\n",
      "{\"comment\":\"Great Pyramids\",\"image_url\":\"https:\\/\\/www.kids-world-travel-guide.com\\/images\\/xpyramids_giza_500.jpeg.pagespeed.ic.L6HuuLoR_9.jpg\",\"dominant_colors\":[{\"fractionOfPixels\":0.02,\"rgbValues\":\"rgb_str\",\"score\":2},{\"fractionOfPixels\":0.62,\"rgbValues\":\"rgb_str\",\"score\":2},{\"fractionOfPixels\":0.8,\"rgbValues\":\"rgb_str\",\"score\":10}],\"bounding_boxes\":[{\"boundingPoly\":[90,95,17,66],\"confidence\":0.86,\"importanceFraction\":0.94}],\"landmarks\":[{\"landmark\":\"identified landmark\",\"confidence\":0.2}]}\n",
      "{\"comment\":\"Sydney Opera House\",\"image_url\":\"https:\\/\\/www.kids-world-travel-guide.com\\/images\\/xsydney_tooykrub_ssk500.jpg.pagespeed.ic.PQaIYJhh9A.jpg\",\"dominant_colors\":[],\"bounding_boxes\":[{\"boundingPoly\":[56,75,18,74],\"confidence\":0.68,\"importanceFraction\":0.78}],\"landmarks\":[{\"landmark\":\"identified landmark\",\"confidence\":0.3}]}\n",
      "{\"comment\":\"Taj Mahal\",\"image_url\":\"https:\\/\\/www.kids-world-travel-guide.com\\/images\\/xtajmahal_500.jpg.pagespeed.ic.V6ys_qmH8t.jpg\",\"dominant_colors\":[],\"bounding_boxes\":[{\"boundingPoly\":[73,89,44,56],\"confidence\":0.22,\"importanceFraction\":0.37},{\"boundingPoly\":[80,53,41,85],\"confidence\":0.08,\"importanceFraction\":0.79}],\"landmarks\":[{\"landmark\":\"identified landmark\",\"confidence\":0.64}]}\n"
     ]
    }
   ],
   "source": [
    "jsonl = df.to_json(orient='records', lines=True)\n",
    "print(jsonl)"
   ]
  },
  {
   "cell_type": "code",
   "execution_count": null,
   "metadata": {},
   "outputs": [],
   "source": []
  }
 ],
 "metadata": {
  "kernelspec": {
   "display_name": "Python 3",
   "language": "python",
   "name": "python3"
  },
  "language_info": {
   "codemirror_mode": {
    "name": "ipython",
    "version": 3
   },
   "file_extension": ".py",
   "mimetype": "text/x-python",
   "name": "python",
   "nbconvert_exporter": "python",
   "pygments_lexer": "ipython3",
   "version": "3.7.2"
  }
 },
 "nbformat": 4,
 "nbformat_minor": 2
}
