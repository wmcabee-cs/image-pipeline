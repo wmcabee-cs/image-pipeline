{
 "cells": [
  {
   "cell_type": "code",
   "execution_count": 6,
   "metadata": {},
   "outputs": [],
   "source": [
    "%reload_ext autoreload\n",
    "%autoreload 2"
   ]
  },
  {
   "cell_type": "code",
   "execution_count": 1,
   "metadata": {},
   "outputs": [],
   "source": [
    "from image_pipeline import schemas\n",
    "from image_pipeline import schemas_pydantic\n",
    "from image_pipeline import schemas2\n",
    "from pydantic.schema import schema"
   ]
  },
  {
   "cell_type": "code",
   "execution_count": 5,
   "metadata": {},
   "outputs": [
    {
     "ename": "TypeError",
     "evalue": "__init__() takes 1 positional argument but 2 were given",
     "output_type": "error",
     "traceback": [
      "\u001b[0;31m---------------------------------------------------------------------------\u001b[0m",
      "\u001b[0;31mTypeError\u001b[0m                                 Traceback (most recent call last)",
      "\u001b[0;32m<ipython-input-5-4c79e45fc3c7>\u001b[0m in \u001b[0;36m<module>\u001b[0;34m()\u001b[0m\n\u001b[0;32m----> 1\u001b[0;31m \u001b[0mschemas_pydantic\u001b[0m\u001b[0;34m.\u001b[0m\u001b[0mRequestParameters\u001b[0m\u001b[0;34m(\u001b[0m\u001b[0;34m'fred'\u001b[0m\u001b[0;34m,\u001b[0m \u001b[0moutfile\u001b[0m\u001b[0;34m=\u001b[0m\u001b[0;34m'outfile'\u001b[0m\u001b[0;34m,\u001b[0m \u001b[0msquid\u001b[0m\u001b[0;34m=\u001b[0m\u001b[0;34m'ok'\u001b[0m\u001b[0;34m)\u001b[0m\u001b[0;34m\u001b[0m\u001b[0;34m\u001b[0m\u001b[0m\n\u001b[0m",
      "\u001b[0;31mTypeError\u001b[0m: __init__() takes 1 positional argument but 2 were given"
     ]
    }
   ],
   "source": [
    "schemas_pydantic.RequestParameters('fred', outfile='outfile', squid='ok')"
   ]
  },
  {
   "cell_type": "code",
   "execution_count": 11,
   "metadata": {},
   "outputs": [
    {
     "name": "stdout",
     "output_type": "stream",
     "text": [
      "{\n",
      "  \"title\": \"AnnotatedImage\",\n",
      "  \"type\": \"object\",\n",
      "  \"properties\": {\n",
      "    \"image_url\": {\n",
      "      \"title\": \"Image_Url\",\n",
      "      \"minLength\": 1,\n",
      "      \"maxLength\": 65536,\n",
      "      \"type\": \"string\",\n",
      "      \"format\": \"uri\"\n",
      "    },\n",
      "    \"comment\": {\n",
      "      \"title\": \"Comment\",\n",
      "      \"type\": \"string\"\n",
      "    },\n",
      "    \"dominant_colors\": {\n",
      "      \"title\": \"Dominant_Colors\",\n",
      "      \"type\": \"array\",\n",
      "      \"items\": {\n",
      "        \"$ref\": \"#/definitions/DominantColor\"\n",
      "      }\n",
      "    },\n",
      "    \"bounding_boxes\": {\n",
      "      \"title\": \"Bounding_Boxes\",\n",
      "      \"type\": \"array\",\n",
      "      \"items\": {\n",
      "        \"$ref\": \"#/definitions/BoundingBox\"\n",
      "      }\n",
      "    },\n",
      "    \"landmarks\": {\n",
      "      \"title\": \"Landmarks\",\n",
      "      \"type\": \"array\",\n",
      "      \"items\": {\n",
      "        \"$ref\": \"#/definitions/Landmark\"\n",
      "      }\n",
      "    }\n",
      "  },\n",
      "  \"required\": [\n",
      "    \"image_url\"\n",
      "  ],\n",
      "  \"definitions\": {\n",
      "    \"DominantColor\": {\n",
      "      \"title\": \"DominantColor\",\n",
      "      \"type\": \"object\",\n",
      "      \"properties\": {\n",
      "        \"fractionOfPixels\": {\n",
      "          \"title\": \"Fractionofpixels\",\n",
      "          \"type\": \"number\"\n",
      "        },\n",
      "        \"rgbValues\": {\n",
      "          \"title\": \"Rgbvalues\",\n",
      "          \"type\": \"string\"\n",
      "        },\n",
      "        \"score\": {\n",
      "          \"title\": \"Score\",\n",
      "          \"type\": \"number\"\n",
      "        }\n",
      "      },\n",
      "      \"required\": [\n",
      "        \"fractionOfPixels\",\n",
      "        \"rgbValues\",\n",
      "        \"score\"\n",
      "      ]\n",
      "    },\n",
      "    \"BoundingBox\": {\n",
      "      \"title\": \"BoundingBox\",\n",
      "      \"type\": \"object\",\n",
      "      \"properties\": {\n",
      "        \"boundingPoly\": {\n",
      "          \"title\": \"Boundingpoly\",\n",
      "          \"type\": \"array\",\n",
      "          \"items\": {\n",
      "            \"type\": \"integer\"\n",
      "          }\n",
      "        },\n",
      "        \"confidence\": {\n",
      "          \"title\": \"Confidence\",\n",
      "          \"type\": \"number\"\n",
      "        },\n",
      "        \"importanceFraction\": {\n",
      "          \"title\": \"Importancefraction\",\n",
      "          \"type\": \"number\"\n",
      "        }\n",
      "      },\n",
      "      \"required\": [\n",
      "        \"boundingPoly\",\n",
      "        \"confidence\",\n",
      "        \"importanceFraction\"\n",
      "      ]\n",
      "    },\n",
      "    \"Landmark\": {\n",
      "      \"title\": \"Landmark\",\n",
      "      \"type\": \"object\",\n",
      "      \"properties\": {\n",
      "        \"confidence\": {\n",
      "          \"title\": \"Confidence\",\n",
      "          \"type\": \"number\"\n",
      "        },\n",
      "        \"landmark\": {\n",
      "          \"title\": \"Landmark\",\n",
      "          \"type\": \"string\"\n",
      "        }\n",
      "      },\n",
      "      \"required\": [\n",
      "        \"confidence\",\n",
      "        \"landmark\"\n",
      "      ]\n",
      "    }\n",
      "  }\n",
      "}\n"
     ]
    }
   ],
   "source": [
    "print(schemas_pydantic.AnnotatedImage.schema_json(indent=2))"
   ]
  },
  {
   "cell_type": "code",
   "execution_count": 38,
   "metadata": {},
   "outputs": [
    {
     "data": {
      "text/plain": [
       "mappingproxy({'__module__': 'image_pipeline.schemas2',\n",
       "              '__doc__': 'AnnotatedImage(image_url: str, dominant_colors: Union[List[image_pipeline.schemas2.DominantColor], NoneType], bounding_boxes: Union[List[image_pipeline.schemas2.BoundingBox], NoneType], landmarks: Union[List[image_pipeline.schemas2.Landmark], NoneType])',\n",
       "              '__post_init__': <function pydantic.dataclasses._pydantic_post_init(self: 'DataclassType') -> None>,\n",
       "              '__dataclass_params__': _DataclassParams(init=True,repr=True,eq=True,order=False,unsafe_hash=False,frozen=True),\n",
       "              '__dataclass_fields__': {'image_url': Field(name='image_url',type=<class 'str'>,default=<dataclasses._MISSING_TYPE object at 0x10cf89128>,default_factory=<dataclasses._MISSING_TYPE object at 0x10cf89128>,init=True,repr=True,hash=None,compare=True,metadata=mappingproxy({}),_field_type=_FIELD),\n",
       "               'dominant_colors': Field(name='dominant_colors',type=typing.Union[typing.List[image_pipeline.schemas2.DominantColor], NoneType],default=<dataclasses._MISSING_TYPE object at 0x10cf89128>,default_factory=<dataclasses._MISSING_TYPE object at 0x10cf89128>,init=True,repr=True,hash=None,compare=True,metadata=mappingproxy({}),_field_type=_FIELD),\n",
       "               'bounding_boxes': Field(name='bounding_boxes',type=typing.Union[typing.List[image_pipeline.schemas2.BoundingBox], NoneType],default=<dataclasses._MISSING_TYPE object at 0x10cf89128>,default_factory=<dataclasses._MISSING_TYPE object at 0x10cf89128>,init=True,repr=True,hash=None,compare=True,metadata=mappingproxy({}),_field_type=_FIELD),\n",
       "               'landmarks': Field(name='landmarks',type=typing.Union[typing.List[image_pipeline.schemas2.Landmark], NoneType],default=<dataclasses._MISSING_TYPE object at 0x10cf89128>,default_factory=<dataclasses._MISSING_TYPE object at 0x10cf89128>,init=True,repr=True,hash=None,compare=True,metadata=mappingproxy({}),_field_type=_FIELD)},\n",
       "              '__init__': <function __init__(self, image_url: str, dominant_colors: Union[List[image_pipeline.schemas2.DominantColor], NoneType], bounding_boxes: Union[List[image_pipeline.schemas2.BoundingBox], NoneType], landmarks: Union[List[image_pipeline.schemas2.Landmark], NoneType]) -> None>,\n",
       "              '__repr__': <function dataclasses.__repr__(self)>,\n",
       "              '__eq__': <function dataclasses.__eq__(self, other)>,\n",
       "              '__setattr__': <function __setattr__(self, name, value)>,\n",
       "              '__delattr__': <function __delattr__(self, name)>,\n",
       "              '__hash__': <function dataclasses.__hash__(self)>,\n",
       "              '__post_init_original__': None,\n",
       "              '__pydantic_model__': image_pipeline.schemas2.AnnotatedImage,\n",
       "              '__initialised__': False,\n",
       "              '__validate__': <classmethod at 0x10d15d048>,\n",
       "              '__get_validators__': <classmethod at 0x10d15d0b8>})"
      ]
     },
     "execution_count": 38,
     "metadata": {},
     "output_type": "execute_result"
    }
   ],
   "source": [
    "schemas2.AnnotatedImage"
   ]
  },
  {
   "cell_type": "code",
   "execution_count": null,
   "metadata": {},
   "outputs": [],
   "source": []
  }
 ],
 "metadata": {
  "kernelspec": {
   "display_name": "Python 3",
   "language": "python",
   "name": "python3"
  },
  "language_info": {
   "codemirror_mode": {
    "name": "ipython",
    "version": 3
   },
   "file_extension": ".py",
   "mimetype": "text/x-python",
   "name": "python",
   "nbconvert_exporter": "python",
   "pygments_lexer": "ipython3",
   "version": "3.7.2"
  }
 },
 "nbformat": 4,
 "nbformat_minor": 2
}
