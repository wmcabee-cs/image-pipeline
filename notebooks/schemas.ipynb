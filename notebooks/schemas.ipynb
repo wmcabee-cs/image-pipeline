{
 "cells": [
  {
   "cell_type": "code",
   "execution_count": 1,
   "metadata": {},
   "outputs": [],
   "source": [
    "%reload_ext autoreload\n",
    "%autoreload 2"
   ]
  },
  {
   "cell_type": "code",
   "execution_count": 4,
   "metadata": {},
   "outputs": [],
   "source": [
    "from image_pipeline.google_api_funcs import functions\n",
    "import inspect \n",
    "from toolz import get_in, concat\n",
    "from itertools import starmap\n",
    "from functools import partial\n",
    "\n",
    "import pprint\n",
    "\n",
    "from typing import get_type_hints, Any,AnyStr, Union\n",
    "from collections.abc import Sequence, Iterable, Mapping \n",
    "\n",
    "import pandas as pd"
   ]
  },
  {
   "cell_type": "code",
   "execution_count": 5,
   "metadata": {},
   "outputs": [
    {
     "data": {
      "text/plain": [
       "{'ident_landmarks': '(image_url: str) -> Any',\n",
       " 'ident_crop_hints': '(*, image_url: str, aspect_ratios: Union[float, NoneType] = 1.0) -> image_pipeline.google_api_funcs.functions.CropHintAnnotation',\n",
       " 'ident_dominant_colors': '(*, image_url: str, limit: Union[int, NoneType]) -> image_pipeline.google_api_funcs.functions.DominantColorAnnotation',\n",
       " 'func_w_no_annotations': '(a)',\n",
       " 'func_w_no_params': '()',\n",
       " 'func_w_optional_annotations': '(a: Union[int, NoneType], b: Union[image_pipeline.google_api_funcs.functions.CropHintAnnotation, NoneType]) -> Union[image_pipeline.google_api_funcs.functions.CropHintAnnotation, NoneType]',\n",
       " 'func_w_lists': '(a: List[int], b: List[int]) -> List[image_pipeline.google_api_funcs.functions.CropHintAnnotation]',\n",
       " 'func_w_optional_elements': '(a: List[Union[int, NoneType]], b: List[Union[image_pipeline.google_api_funcs.functions.CropHintAnnotation, NoneType]]) -> List[Union[image_pipeline.google_api_funcs.functions.CropHintAnnotation, NoneType]]',\n",
       " 'func_w_optional_lists': '(a: Union[List[int], NoneType], b: Union[List[int], NoneType]) -> Union[List[image_pipeline.google_api_funcs.functions.CropHintAnnotation], NoneType]',\n",
       " 'func_w_optional_iterable': '(a: Iterable[Union[int, NoneType]], b: Iterable[Union[image_pipeline.google_api_funcs.functions.CropHintAnnotation, NoneType]]) -> Iterable[Union[image_pipeline.google_api_funcs.functions.CropHintAnnotation, NoneType]]',\n",
       " 'func_w_optional_sequence': '(a: Sequence[Union[int, NoneType]], b: Sequence[Union[image_pipeline.google_api_funcs.functions.CropHintAnnotation, NoneType]]) -> Iterable[Union[image_pipeline.google_api_funcs.functions.CropHintAnnotation, NoneType]]'}"
      ]
     },
     "execution_count": 5,
     "metadata": {},
     "output_type": "execute_result"
    }
   ],
   "source": [
    "FUNCTIONS = { func.__name__ : func for func in functions.FUNCTIONS}\n",
    "#{name: inspect.formatargspec(*inspect.getfullargspec(f)) for name, f in FUNCTIONS.items()}\n",
    "{name: str(inspect.signature(f)) for name, f in FUNCTIONS.items()}"
   ]
  },
  {
   "cell_type": "code",
   "execution_count": 8,
   "metadata": {},
   "outputs": [],
   "source": [
    "def resolve_base_types(atype):\n",
    "    if atype == inspect._empty:\n",
    "        return Any\n",
    "    return atype\n",
    "\n",
    "def get_function_types(func: callable):\n",
    "    \n",
    "    func_name = func.__name__\n",
    "    signiture =  inspect.signature(func)\n",
    "    return_type = resolve_base_types(signiture.return_annotation)\n",
    "    parameters = { name: resolve_base_types(param_type.annotation)\n",
    "                    for name, param_type in signiture.parameters.items()}\n",
    "\n",
    "    \n",
    "    # Output return record\n",
    "    yield func_name, 'out', func_name, func_name, return_type\n",
    "    \n",
    "    # Input parameter records\n",
    "    for param_sname, parameter in signiture.parameters.items():\n",
    "        param_type = resolve_base_types(parameter.annotation)\n",
    "        param_name = f\"{func_name}.{param_sname}\"\n",
    "        yield func_name, 'in', param_sname, param_name, param_type\n",
    "reader = map(get_function_types,  FUNCTIONS.values())\n",
    "reader = concat(reader)\n",
    "df = pd.DataFrame(reader, columns=['function','input_output','parameter_sname','parameter_name', 'parameter_type']).set_index('parameter_name')\n",
    "\n",
    "def is_type_subclass(val, klass):\n",
    "    try:\n",
    "        return issubclass(val, klass)\n",
    "    except Exception as e:\n",
    "        return False\n",
    "    \n",
    "def args_have_none(val):\n",
    "    if val is None:\n",
    "        return None\n",
    "    return sum(1 for x in val if getattr(x, '__name__', None) == 'NoneType')\n",
    "    \n",
    "df['origin'] = df.parameter_type.map( lambda x: getattr(x, '__origin__', None))\n",
    "df['args'] = df.parameter_type.map( lambda x: getattr(x,'__args__', None))\n",
    "df['type_name'] = df.parameter_type.map(lambda x: x.__dict__.get( '_name'))\n",
    "df['is_iterable' ] = df.origin.map( partial(is_type_subclass, klass=Iterable))\n",
    "df['is_sequence' ] = df.origin.map( partial(is_type_subclass, klass=Sequence))\n",
    "df['is_union' ] = df.origin.map( lambda x: x == Union)\n",
    "df['none_args'] = df.args.map(args_have_none)\n",
    "\n",
    "FUNC_INFO = df\n",
    "#FUNC_INFO\n",
    "df.iloc[:,  3:]\n",
    "\n",
    "FUNC_INFO.to_csv('metadata_from_typing.csv')"
   ]
  },
  {
   "cell_type": "code",
   "execution_count": 51,
   "metadata": {},
   "outputs": [
    {
     "data": {
      "text/plain": [
       "'NoneType'"
      ]
     },
     "execution_count": 51,
     "metadata": {},
     "output_type": "execute_result"
    }
   ],
   "source": [
    "x = FUNC_INFO.loc['func_w_optional_lists']\n",
    "\n",
    "y = x.args[1]\n",
    "inspect.getmembers(y)\n",
    "\n",
    "y.__name__"
   ]
  },
  {
   "cell_type": "code",
   "execution_count": null,
   "metadata": {},
   "outputs": [],
   "source": []
  },
  {
   "cell_type": "code",
   "execution_count": null,
   "metadata": {},
   "outputs": [],
   "source": []
  },
  {
   "cell_type": "code",
   "execution_count": 96,
   "metadata": {},
   "outputs": [
    {
     "data": {
      "text/plain": [
       "[('ident_landmarks', 'out', 'return', typing.Any),\n",
       " ('ident_crop_hints',\n",
       "  'out',\n",
       "  'return',\n",
       "  image_pipeline.google_api_funcs.functions.CropHintAnnotation),\n",
       " ('ident_dominant_colors',\n",
       "  'out',\n",
       "  'return',\n",
       "  image_pipeline.google_api_funcs.functions.DominantColorAnnotation),\n",
       " ('func_w_no_annotations', 'out', 'return', typing.Any),\n",
       " ('func_w_no_params', 'out', 'return', typing.Any)]"
      ]
     },
     "execution_count": 96,
     "metadata": {},
     "output_type": "execute_result"
    }
   ],
   "source": [
    "def get_referenced_types(function_types):\n",
    "    return function_types\n",
    "\n",
    "get_referenced_types(function_types)\n",
    "\n",
    "reader = ((name, 'in', param_name, param_type ) for name, func_def in function_types.items() for param_name, param_type in func_def['in'].items())\n",
    "reader = ((name, 'out','return', func_def['out']) for name, func_def in function_types.items())\n",
    "list(reader)"
   ]
  },
  {
   "cell_type": "code",
   "execution_count": 60,
   "metadata": {},
   "outputs": [
    {
     "name": "stdout",
     "output_type": "stream",
     "text": [
      "{'inputs': {'image_url': <class 'str'>, 'limit': typing.Union[int, NoneType]},\n",
      " 'name': 'ident_dominant_colors',\n",
      " 'output': <class 'image_pipeline.google_api_funcs.functions.DominantColorAnnotation'>}\n"
     ]
    }
   ],
   "source": [
    "def add_if_exists( source, attr_name, adict, new_name):\n",
    "    value = getattr(source, attr_name, None)\n",
    "    if value is not None:\n",
    "        adict[new_name] = value\n",
    "def resolve_type_class(type_obj):\n",
    "    \n",
    "    output = {}\n",
    "    add_if_exists(type_obj, '__name__', output, 'name')\n",
    "    add_if_exists(type_obj, '__args__', output, 'args')\n",
    "    add_if_exists(type_obj, '__origin__', output, 'origin')\n",
    "    \n",
    "    dataclass_fields = getattr(type_obj, '__dataclass_fields__', None)\n",
    "    if dataclass_fields is not None:\n",
    "        output['dataclass_fields'] = {field.name : resolve_type_class(field.type) for field in type_obj.__dataclass_fields__.values()}\n",
    "    output['type_obj'] =  type_obj\n",
    "    return output\n",
    "\n",
    "\n",
    "pprint.pprint(y1)\n",
    "\n",
    "#x = get_in(['returns' ,'dataclass_fields', 'colors','type_obj'], y1)"
   ]
  },
  {
   "cell_type": "code",
   "execution_count": 55,
   "metadata": {},
   "outputs": [
    {
     "data": {
      "text/plain": [
       "list"
      ]
     },
     "execution_count": 55,
     "metadata": {},
     "output_type": "execute_result"
    }
   ],
   "source": [
    "x.__origin__"
   ]
  },
  {
   "cell_type": "code",
   "execution_count": 35,
   "metadata": {},
   "outputs": [
    {
     "name": "stdout",
     "output_type": "stream",
     "text": [
      "(<class 'image_pipeline.google_api_funcs.functions.DominantColorEstimate'>,)\n",
      "List\n"
     ]
    },
    {
     "data": {
      "text/plain": [
       "list"
      ]
     },
     "execution_count": 35,
     "metadata": {},
     "output_type": "execute_result"
    }
   ],
   "source": [
    "print(x.__args__)\n",
    "print(x._name)\n",
    "x.__origin__"
   ]
  },
  {
   "cell_type": "code",
   "execution_count": null,
   "metadata": {},
   "outputs": [],
   "source": []
  },
  {
   "cell_type": "code",
   "execution_count": null,
   "metadata": {},
   "outputs": [],
   "source": []
  },
  {
   "cell_type": "code",
   "execution_count": null,
   "metadata": {},
   "outputs": [],
   "source": []
  },
  {
   "cell_type": "code",
   "execution_count": null,
   "metadata": {},
   "outputs": [],
   "source": []
  },
  {
   "cell_type": "code",
   "execution_count": 1,
   "metadata": {},
   "outputs": [],
   "source": [
    "from image_pipeline import schemas\n",
    "from image_pipeline import schemas_pydantic\n",
    "from image_pipeline import schemas2\n",
    "from pydantic.schema import schema"
   ]
  },
  {
   "cell_type": "code",
   "execution_count": 11,
   "metadata": {},
   "outputs": [
    {
     "name": "stdout",
     "output_type": "stream",
     "text": [
      "{\n",
      "  \"title\": \"AnnotatedImage\",\n",
      "  \"type\": \"object\",\n",
      "  \"properties\": {\n",
      "    \"image_url\": {\n",
      "      \"title\": \"Image_Url\",\n",
      "      \"minLength\": 1,\n",
      "      \"maxLength\": 65536,\n",
      "      \"type\": \"string\",\n",
      "      \"format\": \"uri\"\n",
      "    },\n",
      "    \"comment\": {\n",
      "      \"title\": \"Comment\",\n",
      "      \"type\": \"string\"\n",
      "    },\n",
      "    \"dominant_colors\": {\n",
      "      \"title\": \"Dominant_Colors\",\n",
      "      \"type\": \"array\",\n",
      "      \"items\": {\n",
      "        \"$ref\": \"#/definitions/DominantColor\"\n",
      "      }\n",
      "    },\n",
      "    \"bounding_boxes\": {\n",
      "      \"title\": \"Bounding_Boxes\",\n",
      "      \"type\": \"array\",\n",
      "      \"items\": {\n",
      "        \"$ref\": \"#/definitions/BoundingBox\"\n",
      "      }\n",
      "    },\n",
      "    \"landmarks\": {\n",
      "      \"title\": \"Landmarks\",\n",
      "      \"type\": \"array\",\n",
      "      \"items\": {\n",
      "        \"$ref\": \"#/definitions/Landmark\"\n",
      "      }\n",
      "    }\n",
      "  },\n",
      "  \"required\": [\n",
      "    \"image_url\"\n",
      "  ],\n",
      "  \"definitions\": {\n",
      "    \"DominantColor\": {\n",
      "      \"title\": \"DominantColor\",\n",
      "      \"type\": \"object\",\n",
      "      \"properties\": {\n",
      "        \"fractionOfPixels\": {\n",
      "          \"title\": \"Fractionofpixels\",\n",
      "          \"type\": \"number\"\n",
      "        },\n",
      "        \"rgbValues\": {\n",
      "          \"title\": \"Rgbvalues\",\n",
      "          \"type\": \"string\"\n",
      "        },\n",
      "        \"score\": {\n",
      "          \"title\": \"Score\",\n",
      "          \"type\": \"number\"\n",
      "        }\n",
      "      },\n",
      "      \"required\": [\n",
      "        \"fractionOfPixels\",\n",
      "        \"rgbValues\",\n",
      "        \"score\"\n",
      "      ]\n",
      "    },\n",
      "    \"BoundingBox\": {\n",
      "      \"title\": \"BoundingBox\",\n",
      "      \"type\": \"object\",\n",
      "      \"properties\": {\n",
      "        \"boundingPoly\": {\n",
      "          \"title\": \"Boundingpoly\",\n",
      "          \"type\": \"array\",\n",
      "          \"items\": {\n",
      "            \"type\": \"integer\"\n",
      "          }\n",
      "        },\n",
      "        \"confidence\": {\n",
      "          \"title\": \"Confidence\",\n",
      "          \"type\": \"number\"\n",
      "        },\n",
      "        \"importanceFraction\": {\n",
      "          \"title\": \"Importancefraction\",\n",
      "          \"type\": \"number\"\n",
      "        }\n",
      "      },\n",
      "      \"required\": [\n",
      "        \"boundingPoly\",\n",
      "        \"confidence\",\n",
      "        \"importanceFraction\"\n",
      "      ]\n",
      "    },\n",
      "    \"Landmark\": {\n",
      "      \"title\": \"Landmark\",\n",
      "      \"type\": \"object\",\n",
      "      \"properties\": {\n",
      "        \"confidence\": {\n",
      "          \"title\": \"Confidence\",\n",
      "          \"type\": \"number\"\n",
      "        },\n",
      "        \"landmark\": {\n",
      "          \"title\": \"Landmark\",\n",
      "          \"type\": \"string\"\n",
      "        }\n",
      "      },\n",
      "      \"required\": [\n",
      "        \"confidence\",\n",
      "        \"landmark\"\n",
      "      ]\n",
      "    }\n",
      "  }\n",
      "}\n"
     ]
    }
   ],
   "source": [
    "print(schemas_pydantic.AnnotatedImage.schema_json(indent=2))"
   ]
  },
  {
   "cell_type": "code",
   "execution_count": 38,
   "metadata": {},
   "outputs": [
    {
     "data": {
      "text/plain": [
       "mappingproxy({'__module__': 'image_pipeline.schemas2',\n",
       "              '__doc__': 'AnnotatedImage(image_url: str, dominant_colors: Union[List[image_pipeline.schemas2.DominantColor], NoneType], bounding_boxes: Union[List[image_pipeline.schemas2.BoundingBox], NoneType], landmarks: Union[List[image_pipeline.schemas2.Landmark], NoneType])',\n",
       "              '__post_init__': <function pydantic.dataclasses._pydantic_post_init(self: 'DataclassType') -> None>,\n",
       "              '__dataclass_params__': _DataclassParams(init=True,repr=True,eq=True,order=False,unsafe_hash=False,frozen=True),\n",
       "              '__dataclass_fields__': {'image_url': Field(name='image_url',type=<class 'str'>,default=<dataclasses._MISSING_TYPE object at 0x10cf89128>,default_factory=<dataclasses._MISSING_TYPE object at 0x10cf89128>,init=True,repr=True,hash=None,compare=True,metadata=mappingproxy({}),_field_type=_FIELD),\n",
       "               'dominant_colors': Field(name='dominant_colors',type=typing.Union[typing.List[image_pipeline.schemas2.DominantColor], NoneType],default=<dataclasses._MISSING_TYPE object at 0x10cf89128>,default_factory=<dataclasses._MISSING_TYPE object at 0x10cf89128>,init=True,repr=True,hash=None,compare=True,metadata=mappingproxy({}),_field_type=_FIELD),\n",
       "               'bounding_boxes': Field(name='bounding_boxes',type=typing.Union[typing.List[image_pipeline.schemas2.BoundingBox], NoneType],default=<dataclasses._MISSING_TYPE object at 0x10cf89128>,default_factory=<dataclasses._MISSING_TYPE object at 0x10cf89128>,init=True,repr=True,hash=None,compare=True,metadata=mappingproxy({}),_field_type=_FIELD),\n",
       "               'landmarks': Field(name='landmarks',type=typing.Union[typing.List[image_pipeline.schemas2.Landmark], NoneType],default=<dataclasses._MISSING_TYPE object at 0x10cf89128>,default_factory=<dataclasses._MISSING_TYPE object at 0x10cf89128>,init=True,repr=True,hash=None,compare=True,metadata=mappingproxy({}),_field_type=_FIELD)},\n",
       "              '__init__': <function __init__(self, image_url: str, dominant_colors: Union[List[image_pipeline.schemas2.DominantColor], NoneType], bounding_boxes: Union[List[image_pipeline.schemas2.BoundingBox], NoneType], landmarks: Union[List[image_pipeline.schemas2.Landmark], NoneType]) -> None>,\n",
       "              '__repr__': <function dataclasses.__repr__(self)>,\n",
       "              '__eq__': <function dataclasses.__eq__(self, other)>,\n",
       "              '__setattr__': <function __setattr__(self, name, value)>,\n",
       "              '__delattr__': <function __delattr__(self, name)>,\n",
       "              '__hash__': <function dataclasses.__hash__(self)>,\n",
       "              '__post_init_original__': None,\n",
       "              '__pydantic_model__': image_pipeline.schemas2.AnnotatedImage,\n",
       "              '__initialised__': False,\n",
       "              '__validate__': <classmethod at 0x10d15d048>,\n",
       "              '__get_validators__': <classmethod at 0x10d15d0b8>})"
      ]
     },
     "execution_count": 38,
     "metadata": {},
     "output_type": "execute_result"
    }
   ],
   "source": [
    "schemas2.AnnotatedImage"
   ]
  },
  {
   "cell_type": "code",
   "execution_count": null,
   "metadata": {},
   "outputs": [],
   "source": []
  }
 ],
 "metadata": {
  "kernelspec": {
   "display_name": "Python 3",
   "language": "python",
   "name": "python3"
  },
  "language_info": {
   "codemirror_mode": {
    "name": "ipython",
    "version": 3
   },
   "file_extension": ".py",
   "mimetype": "text/x-python",
   "name": "python",
   "nbconvert_exporter": "python",
   "pygments_lexer": "ipython3",
   "version": "3.7.2"
  }
 },
 "nbformat": 4,
 "nbformat_minor": 2
}
